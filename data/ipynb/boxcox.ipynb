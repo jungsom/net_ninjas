{
 "cells": [
  {
   "cell_type": "code",
   "execution_count": 1,
   "metadata": {},
   "outputs": [],
   "source": [
    "import pandas as pd\n",
    "import numpy as np\n",
    "from scipy.stats import boxcox\n",
    "from sklearn.preprocessing import StandardScaler"
   ]
  },
  {
   "cell_type": "code",
   "execution_count": 35,
   "metadata": {},
   "outputs": [],
   "source": [
    "df = pd.read_csv('./merged_file.csv')\n",
    "scalar = StandardScaler()\n",
    "\n",
    "def boxcox_tscore(df, column_name): # boxcox 변환 후 t점수를 계산하는 함수\n",
    "    df[column_name] = df[column_name] + 1e-20 # 음수이거나 0이면 변환이 안되기 때문에 아주 작은 양수 값을 더해줌\n",
    "    df[f'{column_name}_boxcox'], fitted_lambda = boxcox(df[column_name]) # Box-cox 변환, fitted_lambda: Box-cox 변환 과정에서 자동으로 최적화된 lambda값, 데이터의 분포를 정규에 가깝게 만들어줌, 이 코드에서는 쓰이지 않았지만, 변환된 데이터를 원래의 스케일로 복원할 때 씀 \n",
    "    df[f'{column_name}_scaled'] = scalar.fit_transform(df[[f'{column_name}_boxcox']]) # 정규화를 위한 평균, 표준편차 계산\n",
    "    if (column_name == 'crimeRate'):\n",
    "        df[f'{column_name}_tscore'] = df[f'{column_name}_scaled'] *-1 *10 + 50 # 범죄율의 경우 낮아야 좋으므로 -1를 곱해줌\n",
    "    else:\n",
    "         df[f'{column_name}_tscore'] = df[f'{column_name}_scaled'] *10 + 50 # t점수 계산\n",
    "\n",
    "boxcox_tscore(df, \"libraryCount\")\n",
    "boxcox_tscore(df, \"busStation\")\n",
    "boxcox_tscore(df, \"cultureCount\")\n",
    "boxcox_tscore(df, \"medicalCount\")\n",
    "boxcox_tscore(df, \"crimeRate\")\n",
    "boxcox_tscore(df, \"youthRate\")\n",
    "boxcox_tscore(df, \"supermarket\")\n",
    "boxcox_tscore(df, \"parkRate\")\n",
    "boxcox_tscore(df, \"academyCount\")"
   ]
  },
  {
   "cell_type": "code",
   "execution_count": 36,
   "metadata": {},
   "outputs": [],
   "source": [
    "# t점수가 제대로 나왔는지 비교하기 쉽게 column을 배치\n",
    "df1 = df[['gu', 'dong', 'libraryCount','libraryCount_tscore','busStation','busStation_tscore','cultureCount','cultureCount_tscore','medicalCount','medicalCount_tscore','crimeRate','crimeRate_tscore','youthRate','youthRate_tscore','supermarket','supermarket_tscore','parkRate','parkRate_tscore','academyCount','academyCount_tscore']]"
   ]
  },
  {
   "cell_type": "code",
   "execution_count": 37,
   "metadata": {},
   "outputs": [],
   "source": [
    "# 카테고리 별로 항목이 두 개인 것은 0.5를 곱해서 점수를 하나로 만들어주고, DB Schema 이름에 맞게 column명 변경\n",
    "df2 = df1.copy()\n",
    "df2['eduScore'] = (df2['libraryCount_tscore']) * 0.5 + (df2['academyCount_tscore'] * 0.5)\n",
    "df2['envScore'] = df2['parkRate_tscore']\n",
    "df2['safeScore'] = df2['crimeRate_tscore']\n",
    "df2['welScore'] = (df2['cultureCount_tscore']) * 0.5 + (df2['medicalCount_tscore'] * 0.5)\n",
    "df2['popScore'] = df2['youthRate_tscore']\n",
    "df2['transScore'] = df2['busStation_tscore']\n",
    "df2['convScore'] = df2['supermarket_tscore']\n"
   ]
  },
  {
   "cell_type": "code",
   "execution_count": 40,
   "metadata": {},
   "outputs": [],
   "source": [
    "df3 = df2[['gu', 'dong','eduScore','envScore','safeScore','welScore','popScore','transScore','convScore']]\n",
    "df3.to_csv('./boxcox_tscore_result.csv', encoding='utf-8-sig')"
   ]
  },
  {
   "cell_type": "code",
   "execution_count": null,
   "metadata": {},
   "outputs": [],
   "source": []
  }
 ],
 "metadata": {
  "kernelspec": {
   "display_name": "Python 3",
   "language": "python",
   "name": "python3"
  },
  "language_info": {
   "codemirror_mode": {
    "name": "ipython",
    "version": 3
   },
   "file_extension": ".py",
   "mimetype": "text/x-python",
   "name": "python",
   "nbconvert_exporter": "python",
   "pygments_lexer": "ipython3",
   "version": "3.12.2"
  }
 },
 "nbformat": 4,
 "nbformat_minor": 2
}
