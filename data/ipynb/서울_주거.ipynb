{
 "cells": [
  {
   "cell_type": "code",
   "execution_count": 1,
   "metadata": {},
   "outputs": [],
   "source": [
    "import pandas as pd"
   ]
  },
  {
   "cell_type": "code",
   "execution_count": 4,
   "metadata": {},
   "outputs": [
    {
     "name": "stderr",
     "output_type": "stream",
     "text": [
      "C:\\Users\\MyungHeeChae\\AppData\\Local\\Temp\\ipykernel_12900\\2839217077.py:8: DeprecationWarning: DataFrameGroupBy.apply operated on the grouping columns. This behavior is deprecated, and in a future version of pandas the grouping columns will be excluded from the operation. Either pass `include_groups=False` to exclude the groupings or explicitly select the grouping columns after groupby to silence this warning.\n",
      "  jeonse_deposit = df3.apply(lambda x: x[x['전월세구분'] == '전세']['보증금(만원)'].mean()).fillna(0)\n",
      "C:\\Users\\MyungHeeChae\\AppData\\Local\\Temp\\ipykernel_12900\\2839217077.py:9: DeprecationWarning: DataFrameGroupBy.apply operated on the grouping columns. This behavior is deprecated, and in a future version of pandas the grouping columns will be excluded from the operation. Either pass `include_groups=False` to exclude the groupings or explicitly select the grouping columns after groupby to silence this warning.\n",
      "  wolse_deposit = df3.apply(lambda x: x[x['전월세구분'] == '월세']['보증금(만원)'].mean()).fillna(0)\n",
      "C:\\Users\\MyungHeeChae\\AppData\\Local\\Temp\\ipykernel_12900\\2839217077.py:10: DeprecationWarning: DataFrameGroupBy.apply operated on the grouping columns. This behavior is deprecated, and in a future version of pandas the grouping columns will be excluded from the operation. Either pass `include_groups=False` to exclude the groupings or explicitly select the grouping columns after groupby to silence this warning.\n",
      "  wolse_rent = df3.apply(lambda x: x[x['전월세구분'] == '월세']['임대료(만원)'].mean()).fillna(0)\n"
     ]
    }
   ],
   "source": [
    "df1 = pd.read_csv('./data/서울특별시_전월세가_2023.csv')\n",
    "# 필요한 항목만 가져옴\n",
    "df2 = df1[['자치구명', '법정동명', '전월세구분','보증금(만원)', '임대료(만원)']]\n",
    "# 자치구명과 법정동명으로 그룹화\n",
    "df3 = df2.groupby(['자치구명','법정동명'])\n",
    "\n",
    "# 전세, 월세 구분해서 결측값은 0으로 처리 후 보증금, 임대료 평균을 구함\n",
    "jeonse_deposit = df3.apply(lambda x: x[x['전월세구분'] == '전세']['보증금(만원)'].mean()).fillna(0)\n",
    "wolse_deposit = df3.apply(lambda x: x[x['전월세구분'] == '월세']['보증금(만원)'].mean()).fillna(0)\n",
    "wolse_rent = df3.apply(lambda x: x[x['전월세구분'] == '월세']['임대료(만원)'].mean()).fillna(0)\n",
    "\n",
    "# multiIndex의 값들과 위에서 계산한 평균 값을 하나의 DataFrame으로 만듦\n",
    "result = pd.DataFrame({\n",
    "    '자치구명': jeonse_deposit.index.get_level_values('자치구명'),\n",
    "    '법정동명': jeonse_deposit.index.get_level_values('법정동명'),\n",
    "    '전세 보증금(평균)': jeonse_deposit.values,\n",
    "    '월세 보증금(평균)': wolse_deposit.values,\n",
    "    '월세 임대료(평균)': wolse_rent.values\n",
    "}).reset_index(drop=True)\n",
    "\n",
    "# csv 파일로 내보낼 때 encoding 옵션을 utf-8-sig로 주어야 엑셀로 열 때 한글이 깨지지 않음\n",
    "result.to_csv(\"./전월세가 변환.csv\", index=False, encoding='utf-8-sig')"
   ]
  },
  {
   "cell_type": "code",
   "execution_count": null,
   "metadata": {},
   "outputs": [],
   "source": [
    "c:\\Users\\MyungHeeChae\\AppData\\Local\\Temp\\ipykernel_28192\\716805846.py:5: DeprecationWarning: DataFrameGroupBy.apply operated on the grouping columns. This behavior is deprecated, and in a future version of pandas the grouping columns will be excluded from the operation. Either pass `include_groups=False` to exclude the groupings or explicitly select the grouping columns after groupby to silence this warning.  jeonse_deposit = df3.apply(lambda x: x[x['전월세구분'] == '전세']['보증금(만원)'].mean()).round().fillna(0).astype(int)C:\\Users\\MyungHeeChae\\AppData\\Local\\Temp\\ipykernel_28192\\716805846.py:6: DeprecationWarning: DataFrameGroupBy.apply operated on the grouping columns. This behavior is deprecated, and in a future version of pandas the grouping columns will be excluded from the operation. Either pass `include_groups=False` to exclude the groupings or explicitly select the grouping columns after groupby to silence this warning.  wolse_deposit = df3.apply(lambda x: x[x['전월세구분'] == '월세']['보증금(만원)'].mean()).round().fillna(0).astype(int)C:\\Users\\MyungHeeChae\\AppData\\Local\\Temp\\ipykernel_28192\\716805846.py:7: DeprecationWarning: DataFrameGroupBy.apply operated on the grouping columns. This behavior is deprecated, and in a future version of pandas the grouping columns will be excluded from the operation. Either pass `include_groups=False` to exclude the groupings or explicitly select the grouping columns after groupby to silence this warning.  wolse_rent = df3.apply(lambda x: x[x['전월세구분'] == '월세']['임대료(만원)'].mean()).round().fillna(0).astype(int)\n"
   ]
  }
 ],
 "metadata": {
  "kernelspec": {
   "display_name": "Python 3",
   "language": "python",
   "name": "python3"
  },
  "language_info": {
   "codemirror_mode": {
    "name": "ipython",
    "version": 3
   },
   "file_extension": ".py",
   "mimetype": "text/x-python",
   "name": "python",
   "nbconvert_exporter": "python",
   "pygments_lexer": "ipython3",
   "version": "3.12.2"
  }
 },
 "nbformat": 4,
 "nbformat_minor": 2
}
