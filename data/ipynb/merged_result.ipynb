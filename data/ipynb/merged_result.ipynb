{
  "nbformat": 4,
  "nbformat_minor": 0,
  "metadata": {
    "colab": {
      "provenance": []
    },
    "kernelspec": {
      "name": "python3",
      "display_name": "Python 3"
    },
    "language_info": {
      "name": "python"
    }
  },
  "cells": [
    {
      "cell_type": "code",
      "source": [
        "import pandas as pd\n",
        "\n",
        "# 첫 번째 CSV 파일 읽기\n",
        "df_academy = pd.read_csv('교육1_서울시 학원 수.csv')\n",
        "df_library = pd.read_csv('교육2_서울시 공공도서관 수.csv')\n",
        "df_bus = pd.read_csv('교통1_서울시 버스정류장 수.csv')\n",
        "df_culture = pd.read_csv('문화1_법정동별 문화시설 수.csv')\n",
        "df_medical = pd.read_csv('문화2_법정동별 병의원 및 약국 수.csv')\n",
        "df_crime = pd.read_csv('안전1_5대 범죄 발생 현황.csv')\n",
        "df_people = pd.read_csv('인구1_총 인구수 대비 청소년층, 청년층, 노년층 백분율.csv')\n",
        "df_house = pd.read_csv('주거1_전월세가 변환.csv')\n",
        "df_con = pd.read_csv('편의1_서울시 대형마트 수.csv')\n",
        "df_park = pd.read_csv('환경1_공원 수.csv')"
      ],
      "metadata": {
        "id": "8SDN1NzYvgvi"
      },
      "execution_count": 33,
      "outputs": []
    },
    {
      "cell_type": "code",
      "source": [
        "df_culture = df_culture[['자치구', '법정동', '총 문화시설 수']]\n",
        "df_medical = df_medical[['자치구', '법정동', '총 병의원 및 약국 수']]\n",
        "df_crime = df_crime[['자치구', '1000명 당 범죄 발생수']]\n",
        "df_people = df_people[['자치구', '법정동', '청년층(20~34세) 백분율']]\n",
        "df_con = df_con[['구', '동', '대형마트 수']]\n",
        "df_park = df_park[['자치구', '법정동', '1인 당 공원면적(m^2/명)']]"
      ],
      "metadata": {
        "id": "GbPRy3zJN8LZ"
      },
      "execution_count": 34,
      "outputs": []
    },
    {
      "cell_type": "code",
      "source": [
        "df_academy.rename(columns={'Region': 'gu', 'Value': 'academyCount'}, inplace=True)\n",
        "df_library.rename(columns={'구': 'gu', '동': 'dong', '빈도수': 'libraryCount'}, inplace=True)\n",
        "df_bus.rename(columns={'구': 'gu', '동': 'dong', '빈도수': 'busStation'}, inplace=True)\n",
        "df_culture.rename(columns={'자치구': 'gu', '법정동': 'dong', '총 문화시설 수': 'cultureCount'}, inplace=True)\n",
        "df_medical.rename(columns={'자치구': 'gu', '법정동': 'dong', '총 병의원 및 약국 수': 'medicalCount'}, inplace=True)\n",
        "df_crime.rename(columns={'자치구': 'gu', '1000명 당 범죄 발생수':'crimeRate'}, inplace=True)\n",
        "df_people.rename(columns={'자치구': 'gu', '법정동': 'dong', '청년층(20~34세) 백분율': 'youthRate'}, inplace=True)\n",
        "df_house.rename(columns={'자치구명': 'gu', '법정동명': 'dong', '전세 보증금(평균)': 'jeonseDeposit',\n",
        "                         '월세 보증금(평균)': 'monthDeposit', '월세 임대료(평균)': 'monthRent'}, inplace=True)\n",
        "df_con.rename(columns={'구': 'gu', '동': 'dong', '대형마트 수': 'supermarket'}, inplace=True)\n",
        "df_park.rename(columns={'자치구': 'gu', '법정동': 'dong', '1인 당 공원면적(m^2/명)': 'parkRate'}, inplace=True)"
      ],
      "metadata": {
        "id": "XxRHeVDfvmry"
      },
      "execution_count": 49,
      "outputs": []
    },
    {
      "cell_type": "code",
      "source": [
        "# 조인할 기준 열 지정하여 두 DataFrame 조인\n",
        "merged_df = pd.merge(df_library, df_bus, on=['gu', 'dong'], how='outer')  # 예를 들어 '기준열'은 두 DataFrame이 공통적으로 가지고 있는 열입니다.\n",
        "merged_df = pd.merge(merged_df, df_culture, on=['gu', 'dong'], how='outer')\n",
        "merged_df = pd.merge(merged_df, df_medical, on=['gu', 'dong'], how='outer')\n",
        "merged_df = pd.merge(merged_df, df_crime, on=['gu'], how='outer')\n",
        "merged_df = pd.merge(merged_df, df_people, on=['gu', 'dong'], how='outer')\n",
        "merged_df = pd.merge(merged_df, df_house, on=['gu', 'dong'], how='outer')\n",
        "merged_df = pd.merge(merged_df, df_con, on=['gu', 'dong'], how='outer')\n",
        "merged_df = pd.merge(merged_df, df_park, on=['gu', 'dong'], how='outer')\n",
        "merged_df = pd.merge(merged_df, df_academy, on=['gu'], how='outer')\n",
        "\n",
        "merged_df.fillna(0, inplace=True)\n",
        "merged_df.info()\n",
        "merged_df.to_csv('merged_file.csv', index=False, encoding='utf-8-sig' )"
      ],
      "metadata": {
        "colab": {
          "base_uri": "https://localhost:8080/"
        },
        "id": "d8_yhGmyvmeK",
        "outputId": "8fb4c8ad-50b1-4f9b-e84b-1fe721f2d306"
      },
      "execution_count": 52,
      "outputs": [
        {
          "output_type": "stream",
          "name": "stdout",
          "text": [
            "<class 'pandas.core.frame.DataFrame'>\n",
            "RangeIndex: 465 entries, 0 to 464\n",
            "Data columns (total 14 columns):\n",
            " #   Column         Non-Null Count  Dtype  \n",
            "---  ------         --------------  -----  \n",
            " 0   gu             465 non-null    object \n",
            " 1   dong           465 non-null    object \n",
            " 2   libraryCount   465 non-null    float64\n",
            " 3   busStation     465 non-null    float64\n",
            " 4   cultureCount   465 non-null    float64\n",
            " 5   medicalCount   465 non-null    float64\n",
            " 6   crimeRate      465 non-null    float64\n",
            " 7   youthRate      465 non-null    float64\n",
            " 8   jeonseDeposit  465 non-null    float64\n",
            " 9   monthDeposit   465 non-null    float64\n",
            " 10  monthRent      465 non-null    float64\n",
            " 11  supermarket    465 non-null    float64\n",
            " 12  parkRate       465 non-null    float64\n",
            " 13  academyCount   465 non-null    int64  \n",
            "dtypes: float64(11), int64(1), object(2)\n",
            "memory usage: 51.0+ KB\n"
          ]
        }
      ]
    },
    {
      "cell_type": "code",
      "source": [],
      "metadata": {
        "id": "ey8wisgE6nEn"
      },
      "execution_count": null,
      "outputs": []
    }
  ]
}