{
 "cells": [
  {
   "cell_type": "code",
   "execution_count": 2,
   "metadata": {},
   "outputs": [],
   "source": [
    "import pandas as pd"
   ]
  },
  {
   "cell_type": "code",
   "execution_count": 86,
   "metadata": {},
   "outputs": [
    {
     "name": "stderr",
     "output_type": "stream",
     "text": [
      "C:\\Users\\MyungHeeChae\\AppData\\Local\\Temp\\ipykernel_28192\\4084945071.py:5: DeprecationWarning: DataFrameGroupBy.apply operated on the grouping columns. This behavior is deprecated, and in a future version of pandas the grouping columns will be excluded from the operation. Either pass `include_groups=False` to exclude the groupings or explicitly select the grouping columns after groupby to silence this warning.\n",
      "  jeonse_deposit = df3.apply(lambda x: x[x['전월세구분'] == '전세']['보증금(만원)'].mean()).round().fillna(0).astype(int)\n",
      "C:\\Users\\MyungHeeChae\\AppData\\Local\\Temp\\ipykernel_28192\\4084945071.py:6: DeprecationWarning: DataFrameGroupBy.apply operated on the grouping columns. This behavior is deprecated, and in a future version of pandas the grouping columns will be excluded from the operation. Either pass `include_groups=False` to exclude the groupings or explicitly select the grouping columns after groupby to silence this warning.\n",
      "  wolse_deposit = df3.apply(lambda x: x[x['전월세구분'] == '월세']['보증금(만원)'].mean()).round().fillna(0).astype(int)\n",
      "C:\\Users\\MyungHeeChae\\AppData\\Local\\Temp\\ipykernel_28192\\4084945071.py:7: DeprecationWarning: DataFrameGroupBy.apply operated on the grouping columns. This behavior is deprecated, and in a future version of pandas the grouping columns will be excluded from the operation. Either pass `include_groups=False` to exclude the groupings or explicitly select the grouping columns after groupby to silence this warning.\n",
      "  wolse_rent = df3.apply(lambda x: x[x['전월세구분'] == '월세']['임대료(만원)'].mean()).round().fillna(0).astype(int)\n"
     ]
    }
   ],
   "source": [
    "df1 = pd.read_csv('./data/서울특별시_전월세가_2023.csv')\n",
    "df2 = df1[['자치구명', '법정동명', '전월세구분','보증금(만원)', '임대료(만원)']]\n",
    "df3 = df2.groupby(['자치구명','법정동명'])\n",
    "\n",
    "jeonse_deposit = df3.apply(lambda x: x[x['전월세구분'] == '전세']['보증금(만원)'].mean()).round().fillna(0).astype(int)\n",
    "wolse_deposit = df3.apply(lambda x: x[x['전월세구분'] == '월세']['보증금(만원)'].mean()).round().fillna(0).astype(int)\n",
    "wolse_rent = df3.apply(lambda x: x[x['전월세구분'] == '월세']['임대료(만원)'].mean()).round().fillna(0).astype(int)\n",
    "\n",
    "result = pd.DataFrame({\n",
    "    '자치구명': jeonse_deposit.index.get_level_values('자치구명'),\n",
    "    '법정동명': jeonse_deposit.index.get_level_values('법정동명'),\n",
    "    '전세 보증금(평균)': jeonse_deposit.values,\n",
    "    '월세 보증금(평균)': wolse_deposit.values,\n",
    "    '월세 임대료(평균)': wolse_rent.values\n",
    "}).reset_index(drop=True)\n",
    "\n",
    "result.to_csv(\"./전월세가 변환.csv\", index=False, encoding='utf-8-sig')"
   ]
  },
  {
   "cell_type": "code",
   "execution_count": null,
   "metadata": {},
   "outputs": [],
   "source": [
    "c:\\Users\\MyungHeeChae\\AppData\\Local\\Temp\\ipykernel_28192\\716805846.py:5: DeprecationWarning: DataFrameGroupBy.apply operated on the grouping columns. This behavior is deprecated, and in a future version of pandas the grouping columns will be excluded from the operation. Either pass `include_groups=False` to exclude the groupings or explicitly select the grouping columns after groupby to silence this warning.  jeonse_deposit = df3.apply(lambda x: x[x['전월세구분'] == '전세']['보증금(만원)'].mean()).round().fillna(0).astype(int)C:\\Users\\MyungHeeChae\\AppData\\Local\\Temp\\ipykernel_28192\\716805846.py:6: DeprecationWarning: DataFrameGroupBy.apply operated on the grouping columns. This behavior is deprecated, and in a future version of pandas the grouping columns will be excluded from the operation. Either pass `include_groups=False` to exclude the groupings or explicitly select the grouping columns after groupby to silence this warning.  wolse_deposit = df3.apply(lambda x: x[x['전월세구분'] == '월세']['보증금(만원)'].mean()).round().fillna(0).astype(int)C:\\Users\\MyungHeeChae\\AppData\\Local\\Temp\\ipykernel_28192\\716805846.py:7: DeprecationWarning: DataFrameGroupBy.apply operated on the grouping columns. This behavior is deprecated, and in a future version of pandas the grouping columns will be excluded from the operation. Either pass `include_groups=False` to exclude the groupings or explicitly select the grouping columns after groupby to silence this warning.  wolse_rent = df3.apply(lambda x: x[x['전월세구분'] == '월세']['임대료(만원)'].mean()).round().fillna(0).astype(int)\n"
   ]
  }
 ],
 "metadata": {
  "kernelspec": {
   "display_name": "Python 3",
   "language": "python",
   "name": "python3"
  },
  "language_info": {
   "codemirror_mode": {
    "name": "ipython",
    "version": 3
   },
   "file_extension": ".py",
   "mimetype": "text/x-python",
   "name": "python",
   "nbconvert_exporter": "python",
   "pygments_lexer": "ipython3",
   "version": "3.12.2"
  }
 },
 "nbformat": 4,
 "nbformat_minor": 2
}
