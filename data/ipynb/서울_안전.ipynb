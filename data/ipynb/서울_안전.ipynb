{
 "cells": [
  {
   "cell_type": "markdown",
   "metadata": {},
   "source": [
    "## 1인 당 범죄 발생수"
   ]
  },
  {
   "cell_type": "code",
   "execution_count": 41,
   "metadata": {},
   "outputs": [],
   "source": [
    "import pandas as pd"
   ]
  },
  {
   "cell_type": "code",
   "execution_count": 42,
   "metadata": {},
   "outputs": [],
   "source": [
    "# 서울시 범죄 데이터 CSV 파일 읽기\n",
    "crime_file_path = '../data/crime.csv'\n",
    "crime_df = pd.read_csv(crime_file_path, encoding='utf-8') "
   ]
  },
  {
   "cell_type": "code",
   "execution_count": 43,
   "metadata": {},
   "outputs": [],
   "source": [
    "# 전국 인구 데이터 CSV 파일 읽기\n",
    "population_file_path = '../data/population.csv'\n",
    "population_df = pd.read_csv(population_file_path, encoding='euc-kr') "
   ]
  },
  {
   "cell_type": "code",
   "execution_count": 44,
   "metadata": {},
   "outputs": [
    {
     "name": "stdout",
     "output_type": "stream",
     "text": [
      "     자치구    합계  살인  강도   강간    절도    폭력\n",
      "4    종로구  3138   2   8  228  1313  1587\n",
      "5     중구  3071   1   5  194  1365  1506\n",
      "6    용산구  2967   5   7  280   978  1697\n",
      "7    성동구  2194   2   2  125   979  1086\n",
      "8    광진구  3619   6   -  230  1670  1713\n",
      "9   동대문구  3253   4   2  125  1556  1566\n",
      "10   중랑구  3599   2   2  150  1508  1937\n",
      "11   성북구  2749   3   1  158  1143  1444\n",
      "12   강북구  2832   5   5  177   872  1773\n",
      "13   도봉구  2141   3   -   70   969  1099\n",
      "14   노원구  3896   3   3  180  1504  2206\n",
      "15   은평구  3487   4   5  176  1497  1805\n",
      "16  서대문구  2374   5   6  157  1114  1092\n",
      "17   마포구  4096   2   2  436  1451  2205\n",
      "18   양천구  3169   2   3  114  1474  1576\n",
      "19   강서구  4663   3   7  261  1991  2401\n",
      "20   구로구  3857  11   8  217  1565  2056\n",
      "21   금천구  2577   2   3  127  1118  1327\n",
      "22  영등포구  4819   5  10  327  2062  2415\n",
      "23   동작구  2735   2   5  212  1195  1321\n",
      "24   관악구  4879  10   9  327  1966  2567\n",
      "25   서초구  4459   3   3  431  1921  2101\n",
      "26   강남구  6947  12  11  667  2495  3762\n",
      "27   송파구  5167   2   5  290  2201  2669\n",
      "28   강동구  3711   5   5  157  1672  1872\n"
     ]
    }
   ],
   "source": [
    "# 범죄 데이터 필요없는 값들 행 제거\n",
    "crime_df = crime_df.iloc[4:]\n",
    "\n",
    "# 범죄 유형 별 발생 수 정리\n",
    "safe_df = pd.DataFrame({\n",
    "    '자치구': crime_df.iloc[:,1],\n",
    "    '합계': crime_df.iloc[:,2],\n",
    "    '살인': crime_df.iloc[:,4],\n",
    "    '강도': crime_df.iloc[:,6],\n",
    "    '강간': crime_df.iloc[:,8],\n",
    "    '절도': crime_df.iloc[:,10],\n",
    "    '폭력': crime_df.iloc[:,12],\n",
    "})\n",
    "\n",
    "print(safe_df)"
   ]
  },
  {
   "cell_type": "code",
   "execution_count": 45,
   "metadata": {},
   "outputs": [
    {
     "name": "stdout",
     "output_type": "stream",
     "text": [
      "     자치구      인구\n",
      "0    강남구  544873\n",
      "1    강동구  459167\n",
      "2    강북구  288113\n",
      "3    강서구  563058\n",
      "4    관악구  481956\n",
      "5    광진구  335554\n",
      "6    구로구  392405\n",
      "7    금천구  227481\n",
      "8    노원구  498213\n",
      "9    도봉구  306948\n",
      "10  동대문구  341149\n",
      "11   동작구  378769\n",
      "12   마포구  363697\n",
      "13  서대문구  306231\n",
      "14   서초구  407664\n",
      "15   성동구  277361\n",
      "16   성북구  425602\n",
      "17   송파구  654166\n",
      "18   양천구  436028\n",
      "19  영등포구  374794\n",
      "20   용산구  213151\n",
      "21   은평구  466770\n",
      "22   종로구  139417\n",
      "23    중구  121312\n",
      "24   중랑구  382155\n"
     ]
    }
   ],
   "source": [
    "# 인구 데이터 서울특별시만 추출\n",
    "population_df = population_df[(population_df['시도명'] == '서울특별시')]\n",
    "\n",
    "# 자치구 별 인구 합 데이터 프레임으로\n",
    "filtered_population_df = population_df.groupby('시군구명')['계'].sum().reset_index()\n",
    "\n",
    "filtered_population_df = filtered_population_df.rename(columns={'시군구명': '자치구', '계': '인구'})\n",
    "\n",
    "print(filtered_population_df)"
   ]
  },
  {
   "cell_type": "code",
   "execution_count": 46,
   "metadata": {},
   "outputs": [
    {
     "name": "stdout",
     "output_type": "stream",
     "text": [
      "     자치구    합계  살인  강도   강간    절도    폭력      인구  1인 당 범죄 발생수\n",
      "0    종로구  3138   2   8  228  1313  1587  139417     0.022508\n",
      "1     중구  3071   1   5  194  1365  1506  121312     0.025315\n",
      "2    용산구  2967   5   7  280   978  1697  213151     0.013920\n",
      "3    성동구  2194   2   2  125   979  1086  277361     0.007910\n",
      "4    광진구  3619   6   -  230  1670  1713  335554     0.010785\n",
      "5   동대문구  3253   4   2  125  1556  1566  341149     0.009535\n",
      "6    중랑구  3599   2   2  150  1508  1937  382155     0.009418\n",
      "7    성북구  2749   3   1  158  1143  1444  425602     0.006459\n",
      "8    강북구  2832   5   5  177   872  1773  288113     0.009829\n",
      "9    도봉구  2141   3   -   70   969  1099  306948     0.006975\n",
      "10   노원구  3896   3   3  180  1504  2206  498213     0.007820\n",
      "11   은평구  3487   4   5  176  1497  1805  466770     0.007470\n",
      "12  서대문구  2374   5   6  157  1114  1092  306231     0.007752\n",
      "13   마포구  4096   2   2  436  1451  2205  363697     0.011262\n",
      "14   양천구  3169   2   3  114  1474  1576  436028     0.007268\n",
      "15   강서구  4663   3   7  261  1991  2401  563058     0.008282\n",
      "16   구로구  3857  11   8  217  1565  2056  392405     0.009829\n",
      "17   금천구  2577   2   3  127  1118  1327  227481     0.011328\n",
      "18  영등포구  4819   5  10  327  2062  2415  374794     0.012858\n",
      "19   동작구  2735   2   5  212  1195  1321  378769     0.007221\n",
      "20   관악구  4879  10   9  327  1966  2567  481956     0.010123\n",
      "21   서초구  4459   3   3  431  1921  2101  407664     0.010938\n",
      "22   강남구  6947  12  11  667  2495  3762  544873     0.012750\n",
      "23   송파구  5167   2   5  290  2201  2669  654166     0.007899\n",
      "24   강동구  3711   5   5  157  1672  1872  459167     0.008082\n"
     ]
    }
   ],
   "source": [
    "# 동별 인구 데이터와 공원 면적 데이터 인구 데이터 기준 병합\n",
    "merged_df = pd.merge(safe_df, filtered_population_df, on='자치구')\n",
    "\n",
    "# 1인 당 범죄 발생수 계산\n",
    "merged_df['1인 당 범죄 발생수'] = pd.to_numeric(merged_df['합계']) / merged_df['인구']\n",
    "\n",
    "# 1인 당 범죄 발생수 내림차순 정렬\n",
    "merged_df.sort_values('1인 당 범죄 발생수', ascending=False)\n",
    "\n",
    "print(merged_df)"
   ]
  },
  {
   "cell_type": "code",
   "execution_count": 47,
   "metadata": {},
   "outputs": [],
   "source": [
    "# 최종 결과 데이터 프레임 저장\n",
    "output_file_path = '../data/safe_result.csv'\n",
    "merged_df.to_csv(output_file_path, encoding='utf-8')"
   ]
  }
 ],
 "metadata": {
  "kernelspec": {
   "display_name": "Python 3",
   "language": "python",
   "name": "python3"
  },
  "language_info": {
   "codemirror_mode": {
    "name": "ipython",
    "version": 3
   },
   "file_extension": ".py",
   "mimetype": "text/x-python",
   "name": "python",
   "nbconvert_exporter": "python",
   "pygments_lexer": "ipython3",
   "version": "3.10.5"
  }
 },
 "nbformat": 4,
 "nbformat_minor": 2
}
