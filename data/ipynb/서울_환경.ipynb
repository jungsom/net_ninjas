{
 "cells": [
  {
   "cell_type": "markdown",
   "metadata": {},
   "source": [
    "## 1인 당 공원 면적(m^2 / 명)\n",
    "1. 법적동으로 통일\n",
    "2. 다른 지자체 동 이름 중복 -> 서울시만 추출\n",
    "3. 구, 동 이름 중복 -> 구, 동 구분, 동 추출"
   ]
  },
  {
   "cell_type": "code",
   "execution_count": 1,
   "metadata": {},
   "outputs": [],
   "source": [
    "import pandas as pd\n",
    "import re\n",
    "\n",
    "# 전국 공원 데이터 CSV 파일 읽기\n",
    "park_file_path = '../data/park.csv'\n",
    "\n",
    "# UnicodeDecodeError 해결 - 한글 인코딩 utf-8 euc-kr cp949\n",
    "park_df = pd.read_csv(park_file_path, encoding='euc-kr')\n",
    "\n",
    "# 전국 인구 데이터 CSV 파일 읽기\n",
    "population_file_path = '../data/population.csv'\n",
    "population_df = pd.read_csv(population_file_path, encoding='euc-kr') "
   ]
  },
  {
   "cell_type": "code",
   "execution_count": 2,
   "metadata": {},
   "outputs": [],
   "source": [
    "# 공원 데이터 주소가 비어 있거나 NaN인 경우 제거\n",
    "park_df = park_df[park_df['소재지지번주소'].notna() & (park_df['소재지지번주소'] != '')]\n",
    "\n",
    "# 공원 데이터 서울특별시만 추출\n",
    "park_df = park_df[park_df['소재지지번주소'].str.contains('서울특별시')]\n",
    "\n",
    "# 주소에서 공백 구분한 리스트를 프레임으로 변경 후 '구'를 추출\n",
    "park_df['자치구'] = park_df['소재지지번주소'].str.split(' ', expand=True)[1]\n",
    "\n",
    "# 주소에서 공백 구분한 리스트를 프레임으로 변경 후 '동'을 추출\n",
    "park_df['법정동'] = park_df['소재지지번주소'].str.split(' ', expand=True)[2]\n",
    "\n",
    "# 법정동, 자치구 별 공원면적 합 데이터 프레임으로\n",
    "filtered_park_df = park_df.groupby(['법정동', '자치구'])['공원면적'].sum().reset_index()"
   ]
  },
  {
   "cell_type": "code",
   "execution_count": 3,
   "metadata": {},
   "outputs": [
    {
     "name": "stdout",
     "output_type": "stream",
     "text": [
      "     법정동  자치구     인구\n",
      "0    청운동  종로구   2289\n",
      "1    신교동  종로구   1340\n",
      "2    궁정동  종로구    211\n",
      "3    효자동  종로구    570\n",
      "4    창성동  종로구    404\n",
      "..   ...  ...    ...\n",
      "450  둔촌동  강동구  24349\n",
      "451  암사동  강동구  65775\n",
      "452  성내동  강동구  65333\n",
      "453  천호동  강동구  84811\n",
      "454  강일동  강동구  34099\n",
      "\n",
      "[455 rows x 3 columns]\n"
     ]
    }
   ],
   "source": [
    "# 인구 데이터 서울특별시만 추출\n",
    "population_df = population_df[(population_df['시도명'] == '서울특별시')]\n",
    "\n",
    "# 인구 데이터 법정동, 자치구, 인구 컬럼만 추출\n",
    "filtered_population_df = pd.DataFrame({\n",
    "    '법정동': population_df['읍면동명'],\n",
    "    '자치구': population_df['시군구명'],\n",
    "    '인구': population_df['계']\n",
    "})\n",
    "\n",
    "print(filtered_population_df)"
   ]
  },
  {
   "cell_type": "code",
   "execution_count": 4,
   "metadata": {},
   "outputs": [
    {
     "name": "stdout",
     "output_type": "stream",
     "text": [
      "     법정동  자치구      공원면적     인구  1인 당 공원면적(m^2/명)\n",
      "0    청운동  종로구       NaN   2289               NaN\n",
      "1    신교동  종로구       NaN   1340               NaN\n",
      "2    궁정동  종로구       NaN    211               NaN\n",
      "3    효자동  종로구       NaN    570               NaN\n",
      "4    창성동  종로구       NaN    404               NaN\n",
      "..   ...  ...       ...    ...               ...\n",
      "450  둔촌동  강동구  632733.0  24349         25.985995\n",
      "451  암사동  강동구    1022.0  65775          0.015538\n",
      "452  성내동  강동구       NaN  65333               NaN\n",
      "453  천호동  강동구       NaN  84811               NaN\n",
      "454  강일동  강동구  211206.1  34099          6.193909\n",
      "\n",
      "[455 rows x 5 columns]\n"
     ]
    }
   ],
   "source": [
    "# 동별 인구 데이터와 공원 면적 데이터 인구 데이터 기준 병합\n",
    "merged_df = pd.merge(filtered_park_df, filtered_population_df, left_on=['법정동', '자치구'], right_on=['법정동', '자치구'], how='right')\n",
    "\n",
    "# 1인 당 공원 면적 계산\n",
    "merged_df['1인 당 공원면적(m^2/명)'] = merged_df['공원면적'] / merged_df['인구']\n",
    "\n",
    "# 인구 당 공원 면적 값 내림차순 정렬\n",
    "merged_df.sort_values('1인 당 공원면적(m^2/명)', ascending = False)\n",
    "\n",
    "print(merged_df)"
   ]
  },
  {
   "cell_type": "code",
   "execution_count": 5,
   "metadata": {},
   "outputs": [],
   "source": [
    "# 최종 결과 데이터 프레임 저장\n",
    "output_file_path = '../data/park_result.csv'\n",
    "merged_df.to_csv(output_file_path, encoding='utf-8')\n",
    "\n",
    "# 병합 전 공원 데이터 임시 저장\n",
    "#filtered_park_df.to_csv('../data/result.csv', encoding='utf-8')"
   ]
  }
 ],
 "metadata": {
  "kernelspec": {
   "display_name": "Python 3",
   "language": "python",
   "name": "python3"
  },
  "language_info": {
   "codemirror_mode": {
    "name": "ipython",
    "version": 3
   },
   "file_extension": ".py",
   "mimetype": "text/x-python",
   "name": "python",
   "nbconvert_exporter": "python",
   "pygments_lexer": "ipython3",
   "version": "3.10.5"
  }
 },
 "nbformat": 4,
 "nbformat_minor": 2
}
