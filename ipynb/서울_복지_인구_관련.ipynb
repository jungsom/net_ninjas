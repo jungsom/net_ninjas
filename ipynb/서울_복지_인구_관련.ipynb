{
  "nbformat": 4,
  "nbformat_minor": 0,
  "metadata": {
    "colab": {
      "provenance": []
    },
    "kernelspec": {
      "name": "python3",
      "display_name": "Python 3"
    },
    "language_info": {
      "name": "python"
    }
  },
  "cells": [
    {
      "cell_type": "code",
      "execution_count": 1,
      "metadata": {
        "id": "hZpCHN8v1Rf9"
      },
      "outputs": [],
      "source": [
        "import numpy as np\n",
        "import pandas as pd\n",
        "import matplotlib.pyplot as plt"
      ]
    },
    {
      "cell_type": "markdown",
      "source": [
        "# 1) 행정동별 문화시설 수 분석"
      ],
      "metadata": {
        "id": "z7tO7tIO0ibc"
      }
    },
    {
      "cell_type": "code",
      "source": [
        "df_culture = pd.read_csv('서울시 문화공간 정보.csv', encoding='cp949');\n",
        "\n",
        "# 정보 확인\n",
        "# print(df_population.info())\n",
        "# print(df_culture.info)\n",
        "\n",
        "# 필요한 데이터만 추출\n",
        "\n",
        "df_culture = df_culture[['주제분류', '문화시설명', '주소', '위도', '경도', '홈페이지', '대표이미지', '시설소개']]\n",
        "# print(df_culture_selected.info())\n",
        "\n",
        "# 주제 카테고리 확인\n",
        "culture_category = df_culture['주제분류'].unique()\n",
        "# print(culture_category)\n",
        "\n",
        "# 결측치 확인 및 제거\n",
        "df_culture = df_culture.dropna(subset=['주소'])\n",
        "# print(df_culture.isnull().sum())\n",
        "\n",
        "# 중복값 확인 및 제거\n",
        "df_culture = df_culture.drop_duplicates(subset=['주소'])\n",
        "df_culture_duplicated = df_culture[df_culture.duplicated(subset=['주소'])]\n",
        "print('중복되는 주소: ', df_culture_duplicated) # 중복 없는거 확인\n",
        "\n",
        "df_culture.to_excel('서울시 문화공간 정보_가공.xlsx') # 내보낸 후 도로명-> 지번으로 2차 가공"
      ],
      "metadata": {
        "colab": {
          "base_uri": "https://localhost:8080/"
        },
        "id": "yuKsBkxt8XPb",
        "outputId": "ab7774ba-2eb8-43e8-d893-105fc82ae887",
        "collapsed": true
      },
      "execution_count": 47,
      "outputs": [
        {
          "output_type": "stream",
          "name": "stdout",
          "text": [
            "중복되는 주소:  Empty DataFrame\n",
            "Columns: [주제분류, 문화시설명, 주소, 위도, 경도, 홈페이지, 대표이미지, 시설소개]\n",
            "Index: []\n"
          ]
        }
      ]
    },
    {
      "cell_type": "code",
      "source": [
        "df_culture_new = pd.read_excel('서울시 문화공간 정보_가공.xlsx')\n",
        "df_population = pd.read_csv('지역별(법정동) 성별 연령별 주민등록 인구수_20231231.csv', encoding='cp949')\n",
        "\n",
        "# 이상값 및 결측치 처리\n",
        "df_culture_new = df_culture_new[df_culture_new['주소'].str.startswith('서울')]\n",
        "df_culture_new = df_culture_new.dropna(subset=['주소'])\n",
        "\n",
        "df_culture_new['자치구'] = df_culture_new['주소'].apply(lambda x: x.split()[1])\n",
        "df_culture_new['행정동'] = df_culture_new['주소'].apply(lambda x: x.split()[2])\n",
        "print(df_culture_new)\n",
        "\n",
        "df_culture_new.to_csv('가공_서울시 문화공간 정보(+자치구&행정동).csv')\n",
        "\n",
        "# 행정동별 문화공간 수만 있는 데이터 프레임 가공\n",
        "df_culture_count = df_culture_new['행정동'].value_counts()\n",
        "df_culture_count = pd.DataFrame({'총 문화시설 수': df_culture_count})\n",
        "\n",
        "df_population = df_population[df_population['시도명'] == '서울특별시']\n",
        "df_population.rename(columns={'읍면동명': '행정동', '계': '총 인구수'}, inplace=True)\n",
        "\n",
        "\n",
        "# 두 데이터프레임을 조인\n",
        "merged_df = pd.merge(df_culture_count, df_population, on='행정동', how='left')\n",
        "\n",
        "df_culture_count = merged_df[['행정동', '총 문화시설 수', '총 인구수']]\n",
        "\n",
        "df_culture_count['1인당 문화시설 비율'] = df_culture_count['총 문화시설 수'] / df_culture_count['총 인구수']\n",
        "df_culture_count['1인당 문화시설 백분율'] = df_culture_count['1인당 문화시설 비율'] * 100\n",
        "\n",
        "print(df_culture_count)\n",
        "\n",
        "df_culture_count.to_csv('행정동별 문화시설 수.csv')"
      ],
      "metadata": {
        "colab": {
          "base_uri": "https://localhost:8080/"
        },
        "collapsed": true,
        "id": "aGOCip4IrihG",
        "outputId": "c19f369b-4e2d-4215-ab42-af4a0b6b936d"
      },
      "execution_count": 107,
      "outputs": [
        {
          "output_type": "stream",
          "name": "stdout",
          "text": [
            "     Unnamed: 0    주제분류           문화시설명                   주소         위도  \\\n",
            "0             0      기타           경희대학교      서울 동대문구 회기동 1-5  37.593949   \n",
            "1             1      기타  DDP(동대문디자인플라자)      서울 중구 을지로7가 143  37.566813   \n",
            "2             2     공연장            우란2경  서울 성동구 성수동2가 314-12  37.543790   \n",
            "3             3     도서관      구립은평뉴타운도서관        서울 은평구 진관동 93  37.637230   \n",
            "4             4  문화예술회관        노원문화예술회관     서울 노원구 중계동 364-3  37.650237   \n",
            "..          ...     ...             ...                  ...        ...   \n",
            "913         991      기타            서초구청    서울 서초구 서초동 1376-3  37.483625   \n",
            "914         992     도서관         중랑상봉도서관       서울 중랑구 상봉동 126  37.592892   \n",
            "915         993      기타           중랑캠핑숲        서울 중랑구 망우동 56  37.606861   \n",
            "916         996      기타          정동제일교회        서울 중구 정동 34-3  37.565183   \n",
            "917         997      기타    롯데시네마 가산디지털점      서울 금천구 가산동 60-8  37.477619   \n",
            "\n",
            "             경도                                               홈페이지  \\\n",
            "0    127.054891            https://www.khu.ac.kr/kor/main/index.do   \n",
            "1    127.009626                               http://www.ddp.or.kr   \n",
            "2    127.054417                  http://www.wooranfdn.org/main.jsp   \n",
            "3    126.933118                            http://www.enlib.or.kr/   \n",
            "4    127.080267                          https://www.nowonarts.kr/   \n",
            "..          ...                                                ...   \n",
            "913  127.032683  https://www.seocho.go.kr/site/seocho/05/105040...   \n",
            "914  127.080852   https://www.jungnanglib.seoul.kr/sblib/index.php   \n",
            "915  127.110697                      http://www.joongrangsoop.com/   \n",
            "916  126.972450                 http://chungdong.org/html/main.asp   \n",
            "917  126.889055                https://www.lottecinema.co.kr/NLCHS   \n",
            "\n",
            "                                                 대표이미지  \\\n",
            "0    https://culture.seoul.go.kr/cmmn/file/getImage...   \n",
            "1    https://culture.seoul.go.kr/cmmn/file/getImage...   \n",
            "2    https://culture.seoul.go.kr/cmmn/file/getImage...   \n",
            "3    https://culture.seoul.go.kr/cmmn/file/getImage...   \n",
            "4    https://culture.seoul.go.kr/cmmn/file/getImage...   \n",
            "..                                                 ...   \n",
            "913  https://culture.seoul.go.kr/cmmn/file/getImage...   \n",
            "914  https://culture.seoul.go.kr/cmmn/file/getImage...   \n",
            "915  https://culture.seoul.go.kr/cmmn/file/getImage...   \n",
            "916  https://culture.seoul.go.kr/cmmn/file/getImage...   \n",
            "917  https://culture.seoul.go.kr/cmmn/file/getImage...   \n",
            "\n",
            "                                                  시설소개   자치구    행정동  \n",
            "0    <div style='text-align: center;' align='center...  동대문구    회기동  \n",
            "1    <h5 class='tit_chapter' style='padding: 0px; m...    중구  을지로7가  \n",
            "2    <h3 class='space-content-title'><span style='f...   성동구  성수동2가  \n",
            "3    <p class='0' style='line-height:130%;mso-pagin...   은평구    진관동  \n",
            "4    <p><font face='돋움' size='2'>노원문화예술회관은 중계로 181 ...   노원구    중계동  \n",
            "..                                                 ...   ...    ...  \n",
            "913  <div><span style='font-size: 12pt;'>서초(瑞草)란 서리...   서초구    서초동  \n",
            "914  <div style='text-align: center;' align='center...   중랑구    상봉동  \n",
            "915  <span style='font-size: 12pt;'>중랑 캠핑장을 찾아주신 여러...   중랑구    망우동  \n",
            "916  <span style='font-size: 14pt;'>미국 감리교 선교사 헨리 아...    중구     정동  \n",
            "917  <span style='font-size: 12pt;'>롯데시네마 가산디지털관 총 ...   금천구    가산동  \n",
            "\n",
            "[911 rows x 11 columns]\n",
            "       행정동  총 문화시설 수     총 인구수  1인당 문화시설 비율  1인당 문화시설 백분율\n",
            "0      서초동        21  106213.0     0.000198      0.019772\n",
            "1      한남동        18   17755.0     0.001014      0.101380\n",
            "2      동숭동        16    3619.0     0.004421      0.442111\n",
            "3      잠실동        15  105885.0     0.000142      0.014166\n",
            "4      관훈동        15     111.0     0.135135     13.513514\n",
            "..     ...       ...       ...          ...           ...\n",
            "290    수색동         1   20441.0     0.000049      0.004892\n",
            "291  용산동1가         1       NaN          NaN           NaN\n",
            "292    익선동         1    1009.0     0.000991      0.099108\n",
            "293    사근동         1    6694.0     0.000149      0.014939\n",
            "294    아현동         1   28150.0     0.000036      0.003552\n",
            "\n",
            "[295 rows x 5 columns]\n"
          ]
        },
        {
          "output_type": "stream",
          "name": "stderr",
          "text": [
            "<ipython-input-107-29c35e7c1568>:27: SettingWithCopyWarning: \n",
            "A value is trying to be set on a copy of a slice from a DataFrame.\n",
            "Try using .loc[row_indexer,col_indexer] = value instead\n",
            "\n",
            "See the caveats in the documentation: https://pandas.pydata.org/pandas-docs/stable/user_guide/indexing.html#returning-a-view-versus-a-copy\n",
            "  df_culture_count['1인당 문화시설 비율'] = df_culture_count['총 문화시설 수'] / df_culture_count['총 인구수']\n",
            "<ipython-input-107-29c35e7c1568>:28: SettingWithCopyWarning: \n",
            "A value is trying to be set on a copy of a slice from a DataFrame.\n",
            "Try using .loc[row_indexer,col_indexer] = value instead\n",
            "\n",
            "See the caveats in the documentation: https://pandas.pydata.org/pandas-docs/stable/user_guide/indexing.html#returning-a-view-versus-a-copy\n",
            "  df_culture_count['1인당 문화시설 백분율'] = df_culture_count['1인당 문화시설 비율'] * 100\n"
          ]
        }
      ]
    },
    {
      "cell_type": "markdown",
      "source": [
        "# 2) 행정동별 병의원 및 약국 수 분석\n"
      ],
      "metadata": {
        "id": "7zZh88UYyqif"
      }
    },
    {
      "cell_type": "code",
      "source": [
        "df_pharmacy = pd.read_csv('서울시 약국 인허가 정보.csv', encoding='cp949');\n",
        "\n",
        "# 정보 확인\n",
        "# print(df_pharmacy.info())\n",
        "\n",
        "df_pharmacy = df_pharmacy[['상세영업상태명', '지번주소', '도로명주소', '사업장명', '최종수정일자', '좌표정보(X)', '좌표정보(Y)']]\n",
        "df_pharmacy = df_pharmacy[(df_pharmacy['상세영업상태명'].isin(['영업중', '휴업', '사용중'])) & (df_pharmacy['최종수정일자'] < '2024-01-01')]\n",
        "# print(df_pharmacy)\n",
        "# print(df_pharmacy['상세영업상태명'].unique())\n",
        "\n",
        "# 결측치 확인\n",
        "print(df_pharmacy.isnull().sum())\n",
        "df_pharmacy = df_pharmacy.dropna(subset=['도로명주소'])\n",
        "print(df_pharmacy.isnull().sum())\n",
        "\n",
        "# 중복값 확인 및 제거\n",
        "df_pharmacy = df_pharmacy.drop_duplicates(subset=['지번주소', '도로명주소'])\n",
        "df_pharmacy_duplicated = df_pharmacy[df_pharmacy.duplicated(subset=['지번주소', '도로명주소'])]\n",
        "print('중복되는 주소: ', df_pharmacy_duplicated) # 중복 없는거 확인\n",
        "\n",
        "df_pharmacy.to_excel('서울시 약국 정보_가공.xlsx') # 내보낸 후 도로명-> 지번으로 2차 가공"
      ],
      "metadata": {
        "colab": {
          "base_uri": "https://localhost:8080/"
        },
        "id": "3v51vCY33gfL",
        "outputId": "a99925f0-6db8-4e7f-85a1-23a78d16610f",
        "collapsed": true
      },
      "execution_count": 14,
      "outputs": [
        {
          "output_type": "stream",
          "name": "stdout",
          "text": [
            "상세영업상태명      0\n",
            "지번주소       273\n",
            "도로명주소        2\n",
            "사업장명         0\n",
            "최종수정일자       0\n",
            "좌표정보(X)     76\n",
            "좌표정보(Y)     76\n",
            "dtype: int64\n",
            "상세영업상태명      0\n",
            "지번주소       273\n",
            "도로명주소        0\n",
            "사업장명         0\n",
            "최종수정일자       0\n",
            "좌표정보(X)     74\n",
            "좌표정보(Y)     74\n",
            "dtype: int64\n",
            "중복되는 주소:  Empty DataFrame\n",
            "Columns: [상세영업상태명, 지번주소, 도로명주소, 사업장명, 최종수정일자, 좌표정보(X), 좌표정보(Y)]\n",
            "Index: []\n"
          ]
        }
      ]
    },
    {
      "cell_type": "code",
      "source": [
        "df_hospital = pd.read_csv('서울시 의원 인허가 정보.csv', encoding='cp949');\n",
        "\n",
        "df_hospital = df_hospital[['상세영업상태명', '지번주소', '도로명주소', '사업장명', '최종수정일자', '좌표정보(X)', '좌표정보(Y)']]\n",
        "df_hospital = df_hospital[(df_hospital['상세영업상태명'].isin(['영업중', '휴업', '사용중'])) & (df_hospital['최종수정일자'] < '2024-01-01')]\n",
        "\n",
        "# 결측치 확인\n",
        "df_hospital = df_pharmacy.dropna(subset=['도로명주소'])\n",
        "print(df_hospital.isnull().sum())\n",
        "\n",
        "# 중복값 확인 및 제거\n",
        "df_hospital = df_hospital.drop_duplicates(subset=['지번주소', '도로명주소'])\n",
        "df_hospital_duplicated = df_hospital[df_hospital.duplicated(subset=['지번주소', '도로명주소'])]\n",
        "print('중복되는 주소: ', df_hospital_duplicated) # 중복 없는거 확인\n",
        "\n",
        "df_hospital.to_excel('서울시 병원 정보_가공.xlsx') # 내보낸 후 도로명-> 지번으로 2차 가공"
      ],
      "metadata": {
        "colab": {
          "base_uri": "https://localhost:8080/"
        },
        "id": "YsL9JhyIlju7",
        "outputId": "4144dfc3-19dc-4839-c3df-8316f7888bed",
        "collapsed": true
      },
      "execution_count": 15,
      "outputs": [
        {
          "output_type": "stream",
          "name": "stderr",
          "text": [
            "<ipython-input-15-a886dbd29b61>:1: DtypeWarning: Columns (3,17) have mixed types. Specify dtype option on import or set low_memory=False.\n",
            "  df_hospital = pd.read_csv('서울시 의원 인허가 정보.csv', encoding='cp949');\n"
          ]
        },
        {
          "output_type": "stream",
          "name": "stdout",
          "text": [
            "상세영업상태명      0\n",
            "지번주소       273\n",
            "도로명주소        0\n",
            "사업장명         0\n",
            "최종수정일자       0\n",
            "좌표정보(X)     74\n",
            "좌표정보(Y)     74\n",
            "dtype: int64\n",
            "중복되는 주소:  Empty DataFrame\n",
            "Columns: [상세영업상태명, 지번주소, 도로명주소, 사업장명, 최종수정일자, 좌표정보(X), 좌표정보(Y)]\n",
            "Index: []\n"
          ]
        }
      ]
    },
    {
      "cell_type": "code",
      "source": [
        "df_population = pd.read_csv('지역별(법정동) 성별 연령별 주민등록 인구수_20231231.csv', encoding='cp949')\n",
        "df_pharmacy_new = pd.read_excel('서울시 약국 정보_가공.xlsx')\n",
        "df_hospital_new = pd.read_excel('서울시 병원 정보_가공.xlsx')\n",
        "\n",
        "\n",
        "df_pharmacy_new = df_pharmacy_new.dropna(subset=['지번주소'])\n",
        "df_hospital_new = df_hospital_new.dropna(subset=['지번주소'])\n",
        "\n",
        "df_pharmacy_new['자치구'] = df_pharmacy_new['지번주소'].apply(lambda x: x.split(\" \")[1])\n",
        "df_pharmacy_new['행정동'] = df_pharmacy_new['지번주소'].apply(lambda x: x.split(\" \")[2])\n",
        "\n",
        "df_hospital_new['자치구'] = df_hospital_new['지번주소'].apply(lambda x: x.split(\" \")[1])\n",
        "df_hospital_new['행정동'] = df_hospital_new['지번주소'].apply(lambda x: x.split(\" \")[2])\n",
        "\n",
        "df_pharmacy_new.to_csv('서울시 약국 정보(+자치구,행정동 분리).csv')\n",
        "df_hospital_new.to_csv('서울시 의원 정보(+자치구,행정동 분리).csv')\n",
        "\n",
        "# 행정동별 문화공간 수만 있는 데이터 프레임 가공\n",
        "df_pharmacy_count = df_pharmacy_new['행정동'].value_counts()\n",
        "df_hospital_count = df_hospital_new['행정동'].value_counts()\n",
        "# pharmacy_hospital_per_population = df_pharmacy_hospital_count / total_population\n",
        "df_pharmacy_hospital_count = pd.DataFrame({'총 병의원 및 약국 수': df_pharmacy_count + df_hospital_count})\n",
        "\n",
        "df_population = df_population[df_population['시도명'] == '서울특별시']\n",
        "df_population.rename(columns={'읍면동명': '행정동', '계': '총 인구수'}, inplace=True)\n",
        "\n",
        "# 두 데이터프레임을 조인\n",
        "merged_df = pd.merge(df_pharmacy_hospital_count, df_population, on='행정동', how='left')\n",
        "\n",
        "df_pharmacy_hospital_count = merged_df[['행정동', '총 병의원 및 약국 수', '총 인구수']]\n",
        "\n",
        "df_pharmacy_hospital_count['1인당 병의원 및 약국 비율'] = df_pharmacy_hospital_count['총 병의원 및 약국 수'] / df_pharmacy_hospital_count['총 인구수']\n",
        "df_pharmacy_hospital_count['1인당 병의원 및 약국 백분율'] = df_pharmacy_hospital_count['1인당 병의원 및 약국 비율'] * 100\n",
        "\n",
        "print(df_pharmacy_hospital_count)\n",
        "\n",
        "\n",
        "df_pharmacy_hospital_count.to_csv('행정동별 병의원 및 약국 수.csv')"
      ],
      "metadata": {
        "colab": {
          "base_uri": "https://localhost:8080/"
        },
        "collapsed": true,
        "id": "IQnfHP-s0GHu",
        "outputId": "f3369e58-7f2e-4b57-c72e-53e084ee8ebc"
      },
      "execution_count": 105,
      "outputs": [
        {
          "output_type": "stream",
          "name": "stdout",
          "text": [
            "       행정동  총 병의원 및 약국 수     총 인구수  1인당 병의원 및 약국 비율  1인당 병의원 및 약국 백분율\n",
            "0      상계동           212  197542.0         0.001073          0.107319\n",
            "1      서초동           212  106213.0         0.001996          0.199599\n",
            "2      봉천동           204  221775.0         0.000920          0.091985\n",
            "3      신림동           202  242494.0         0.000833          0.083301\n",
            "4      역삼동           192   70529.0         0.002722          0.272228\n",
            "..     ...           ...       ...              ...               ...\n",
            "349  을지로1가             2       1.0         2.000000        200.000000\n",
            "350    용문동             2    6101.0         0.000328          0.032782\n",
            "351     초동             2      76.0         0.026316          2.631579\n",
            "352  봉래동2가             2       NaN              NaN               NaN\n",
            "353  충무로5가             2     594.0         0.003367          0.336700\n",
            "\n",
            "[354 rows x 5 columns]\n"
          ]
        },
        {
          "output_type": "stream",
          "name": "stderr",
          "text": [
            "<ipython-input-105-20d2cb8eb0c7>:9: SettingWithCopyWarning: \n",
            "A value is trying to be set on a copy of a slice from a DataFrame.\n",
            "Try using .loc[row_indexer,col_indexer] = value instead\n",
            "\n",
            "See the caveats in the documentation: https://pandas.pydata.org/pandas-docs/stable/user_guide/indexing.html#returning-a-view-versus-a-copy\n",
            "  df_pharmacy_new['자치구'] = df_pharmacy_new['지번주소'].apply(lambda x: x.split(\" \")[1])\n",
            "<ipython-input-105-20d2cb8eb0c7>:10: SettingWithCopyWarning: \n",
            "A value is trying to be set on a copy of a slice from a DataFrame.\n",
            "Try using .loc[row_indexer,col_indexer] = value instead\n",
            "\n",
            "See the caveats in the documentation: https://pandas.pydata.org/pandas-docs/stable/user_guide/indexing.html#returning-a-view-versus-a-copy\n",
            "  df_pharmacy_new['행정동'] = df_pharmacy_new['지번주소'].apply(lambda x: x.split(\" \")[2])\n",
            "<ipython-input-105-20d2cb8eb0c7>:25: SettingWithCopyWarning: \n",
            "A value is trying to be set on a copy of a slice from a DataFrame\n",
            "\n",
            "See the caveats in the documentation: https://pandas.pydata.org/pandas-docs/stable/user_guide/indexing.html#returning-a-view-versus-a-copy\n",
            "  df_population.rename(columns={'읍면동명': '행정동', '계': '총 인구수'}, inplace=True)\n",
            "<ipython-input-105-20d2cb8eb0c7>:32: SettingWithCopyWarning: \n",
            "A value is trying to be set on a copy of a slice from a DataFrame.\n",
            "Try using .loc[row_indexer,col_indexer] = value instead\n",
            "\n",
            "See the caveats in the documentation: https://pandas.pydata.org/pandas-docs/stable/user_guide/indexing.html#returning-a-view-versus-a-copy\n",
            "  df_pharmacy_hospital_count['1인당 병의원 및 약국 비율'] = df_pharmacy_hospital_count['총 병의원 및 약국 수'] / df_pharmacy_hospital_count['총 인구수']\n",
            "<ipython-input-105-20d2cb8eb0c7>:33: SettingWithCopyWarning: \n",
            "A value is trying to be set on a copy of a slice from a DataFrame.\n",
            "Try using .loc[row_indexer,col_indexer] = value instead\n",
            "\n",
            "See the caveats in the documentation: https://pandas.pydata.org/pandas-docs/stable/user_guide/indexing.html#returning-a-view-versus-a-copy\n",
            "  df_pharmacy_hospital_count['1인당 병의원 및 약국 백분율'] = df_pharmacy_hospital_count['1인당 병의원 및 약국 비율'] * 100\n"
          ]
        }
      ]
    },
    {
      "cell_type": "markdown",
      "source": [
        "# 3) 행정동별 청소년, 청년, 고령 비율 분석"
      ],
      "metadata": {
        "id": "BoHYgl4Wy8q_"
      }
    },
    {
      "cell_type": "code",
      "source": [
        "#인구 관련 데이터 분석\n",
        "df_people = pd.read_csv('지역별(법정동) 성별 연령별 주민등록 인구수_20231231.csv', encoding='cp949')\n",
        "\n",
        "# NaN 값을 0으로 채우기\n",
        "df_people.fillna(0, inplace=True)\n",
        "\n",
        "# '-' 값을 0으로 대체\n",
        "df_people.replace('-', 0, inplace=True)\n",
        "\n",
        "# 데이터프레임 정보 확인\n",
        "df_people = df_people[df_people['시도명'] == '서울특별시']\n",
        "df_people_new = df_people[['읍면동명', '계']]\n",
        "df_people_new.rename(columns={'읍면동명': '행정동', '계': '총 인구수'}, inplace=True)\n",
        "\n",
        "print(df_people_new)\n",
        "\n",
        "df_people_new['청소년층(0~19세)'] = df_people[['0세남자', '0세여자', '1세남자', '1세여자', '2세남자', '2세여자',\n",
        "                               '3세남자', '3세여자', '4세남자', '4세여자', '5세남자', '5세여자',\n",
        "                               '6세남자', '6세여자', '7세남자', '7세여자', '8세남자', '8세여자',\n",
        "                               '9세남자', '9세여자', '10세남자', '10세여자', '11세남자', '11세여자',\n",
        "                               '12세남자', '12세여자', '13세남자', '13세여자', '14세남자', '14세여자',\n",
        "                               '15세남자', '15세여자', '16세남자', '16세여자', '17세남자', '17세여자',\n",
        "                               '18세남자', '18세여자', '19세남자', '19세여자']].sum(axis=1)\n",
        "\n",
        "df_people_new['청년층(20~34세)'] = df_people[['20세남자', '20세여자', '21세남자', '21세여자', '22세남자', '22세여자',\n",
        "                               '23세남자', '23세여자', '24세남자', '24세여자', '25세남자', '25세여자',\n",
        "                               '26세남자', '26세여자', '27세남자', '27세여자', '28세남자', '28세여자',\n",
        "                               '29세남자', '29세여자', '30세남자', '30세여자', '31세남자', '31세여자',\n",
        "                               '32세남자', '32세여자', '33세남자', '33세여자', '34세남자', '34세여자']].sum(axis=1)\n",
        "\n",
        "df_people_new['노년층(65세 이상)'] = df_people[['65세남자', '65세여자', '66세남자', '66세여자', '67세남자', '67세여자',\n",
        "                                 '68세남자', '68세여자', '69세남자', '69세여자', '70세남자', '70세여자',\n",
        "                                 '71세남자', '71세여자', '72세남자', '72세여자', '73세남자', '73세여자',\n",
        "                                 '74세남자', '74세여자', '75세남자', '75세여자', '76세남자', '76세여자',\n",
        "                                 '77세남자', '77세여자', '78세남자', '78세여자', '79세남자', '79세여자',\n",
        "                                 '80세남자', '80세여자', '81세남자', '81세여자', '82세남자', '82세여자',\n",
        "                                 '83세남자', '83세여자', '84세남자', '84세여자', '85세남자', '85세여자',\n",
        "                                 '86세남자', '86세여자', '87세남자', '87세여자', '88세남자', '88세여자',\n",
        "                                 '89세남자', '89세여자', '90세남자', '90세여자', '91세남자', '91세여자',\n",
        "                                 '92세남자', '92세여자', '93세남자', '93세여자', '94세남자', '94세여자',\n",
        "                                 '95세남자', '95세여자', '96세남자', '96세여자', '97세남자', '97세여자',\n",
        "                                 '98세남자', '98세여자', '99세남자', '99세여자', '100세남자', '100세여자',\n",
        "                                 '101세남자', '101세여자', '102세남자', '102세여자', '103세남자', '103세여자',\n",
        "                                 '104세남자', '104세여자', '105세남자', '105세여자', '106세남자', '106세여자',\n",
        "                                 '107세남자', '107세여자', '108세남자', '108세여자', '109세남자', '109세여자',\n",
        "                                 '110세이상 남자', '110세이상 여자']].sum(axis=1)\n",
        "\n",
        "\n",
        "print(df_people_new)\n",
        "\n",
        "df_people_new['청소년층(0~19세) 백분율'] = df_people_new['청소년층(0~19세)'] / df_people_new['총 인구수'] * 100\n",
        "df_people_new['청년층(20~34세) 백분율'] = df_people_new['청년층(20~34세)'] / df_people_new['총 인구수'] * 100\n",
        "df_people_new['노년층(65세~) 백분율'] = df_people_new['노년층(65세 이상)'] / df_people_new['총 인구수'] * 100\n",
        "\n",
        "print(df_people_new)\n",
        "\n",
        "df_people_new.to_csv('총 인구수 대비 청소년층, 청년층, 노년층 백분율.csv')"
      ],
      "metadata": {
        "colab": {
          "base_uri": "https://localhost:8080/"
        },
        "collapsed": true,
        "id": "7x19QPia40zH",
        "outputId": "7b028f3b-7d41-4db4-b1ca-a207078d03e0"
      },
      "execution_count": 103,
      "outputs": [
        {
          "output_type": "stream",
          "name": "stdout",
          "text": [
            "     행정동  총 인구수\n",
            "0    청운동   2289\n",
            "1    신교동   1340\n",
            "2    궁정동    211\n",
            "3    효자동    570\n",
            "4    창성동    404\n",
            "..   ...    ...\n",
            "450  둔촌동  24349\n",
            "451  암사동  65775\n",
            "452  성내동  65333\n",
            "453  천호동  84811\n",
            "454  강일동  34099\n",
            "\n",
            "[455 rows x 2 columns]\n",
            "     행정동  총 인구수  청소년층(0~19세)  청년층(20~34세)  노년층(65세 이상)\n",
            "0    청운동   2289          432          414          414\n",
            "1    신교동   1340          202          269          223\n",
            "2    궁정동    211           41           41           16\n",
            "3    효자동    570           75          113           91\n",
            "4    창성동    404           49           67           92\n",
            "..   ...    ...          ...          ...          ...\n",
            "450  둔촌동  24349         3374         5037         4581\n",
            "451  암사동  65775         9601        12545        12264\n",
            "452  성내동  65333         7249        15749        12420\n",
            "453  천호동  84811         7920        20785        17143\n",
            "454  강일동  34099         6789         5430         6221\n",
            "\n",
            "[455 rows x 5 columns]\n",
            "     행정동  총 인구수  청소년층(0~19세)  청년층(20~34세)  노년층(65세 이상)  청소년층(0~19세) 백분율  \\\n",
            "0    청운동   2289          432          414          414        18.872870   \n",
            "1    신교동   1340          202          269          223        15.074627   \n",
            "2    궁정동    211           41           41           16        19.431280   \n",
            "3    효자동    570           75          113           91        13.157895   \n",
            "4    창성동    404           49           67           92        12.128713   \n",
            "..   ...    ...          ...          ...          ...              ...   \n",
            "450  둔촌동  24349         3374         5037         4581        13.856832   \n",
            "451  암사동  65775         9601        12545        12264        14.596731   \n",
            "452  성내동  65333         7249        15749        12420        11.095465   \n",
            "453  천호동  84811         7920        20785        17143         9.338411   \n",
            "454  강일동  34099         6789         5430         6221        19.909675   \n",
            "\n",
            "     청년층(20~34세) 백분율  노년층(65세~) 백분율  \n",
            "0          18.086501      18.086501  \n",
            "1          20.074627      16.641791  \n",
            "2          19.431280       7.582938  \n",
            "3          19.824561      15.964912  \n",
            "4          16.584158      22.772277  \n",
            "..               ...            ...  \n",
            "450        20.686681      18.813914  \n",
            "451        19.072596      18.645382  \n",
            "452        24.105735      19.010301  \n",
            "453        24.507434      20.213180  \n",
            "454        15.924221      18.243937  \n",
            "\n",
            "[455 rows x 8 columns]\n"
          ]
        },
        {
          "output_type": "stream",
          "name": "stderr",
          "text": [
            "<ipython-input-103-215bde94124f>:13: SettingWithCopyWarning: \n",
            "A value is trying to be set on a copy of a slice from a DataFrame\n",
            "\n",
            "See the caveats in the documentation: https://pandas.pydata.org/pandas-docs/stable/user_guide/indexing.html#returning-a-view-versus-a-copy\n",
            "  df_people_new.rename(columns={'읍면동명': '행정동', '계': '총 인구수'}, inplace=True)\n",
            "<ipython-input-103-215bde94124f>:17: SettingWithCopyWarning: \n",
            "A value is trying to be set on a copy of a slice from a DataFrame.\n",
            "Try using .loc[row_indexer,col_indexer] = value instead\n",
            "\n",
            "See the caveats in the documentation: https://pandas.pydata.org/pandas-docs/stable/user_guide/indexing.html#returning-a-view-versus-a-copy\n",
            "  df_people_new['청소년층(0~19세)'] = df_people[['0세남자', '0세여자', '1세남자', '1세여자', '2세남자', '2세여자',\n",
            "<ipython-input-103-215bde94124f>:25: SettingWithCopyWarning: \n",
            "A value is trying to be set on a copy of a slice from a DataFrame.\n",
            "Try using .loc[row_indexer,col_indexer] = value instead\n",
            "\n",
            "See the caveats in the documentation: https://pandas.pydata.org/pandas-docs/stable/user_guide/indexing.html#returning-a-view-versus-a-copy\n",
            "  df_people_new['청년층(20~34세)'] = df_people[['20세남자', '20세여자', '21세남자', '21세여자', '22세남자', '22세여자',\n",
            "<ipython-input-103-215bde94124f>:31: SettingWithCopyWarning: \n",
            "A value is trying to be set on a copy of a slice from a DataFrame.\n",
            "Try using .loc[row_indexer,col_indexer] = value instead\n",
            "\n",
            "See the caveats in the documentation: https://pandas.pydata.org/pandas-docs/stable/user_guide/indexing.html#returning-a-view-versus-a-copy\n",
            "  df_people_new['노년층(65세 이상)'] = df_people[['65세남자', '65세여자', '66세남자', '66세여자', '67세남자', '67세여자',\n",
            "<ipython-input-103-215bde94124f>:51: SettingWithCopyWarning: \n",
            "A value is trying to be set on a copy of a slice from a DataFrame.\n",
            "Try using .loc[row_indexer,col_indexer] = value instead\n",
            "\n",
            "See the caveats in the documentation: https://pandas.pydata.org/pandas-docs/stable/user_guide/indexing.html#returning-a-view-versus-a-copy\n",
            "  df_people_new['청소년층(0~19세) 백분율'] = df_people_new['청소년층(0~19세)'] / df_people_new['총 인구수'] * 100\n",
            "<ipython-input-103-215bde94124f>:52: SettingWithCopyWarning: \n",
            "A value is trying to be set on a copy of a slice from a DataFrame.\n",
            "Try using .loc[row_indexer,col_indexer] = value instead\n",
            "\n",
            "See the caveats in the documentation: https://pandas.pydata.org/pandas-docs/stable/user_guide/indexing.html#returning-a-view-versus-a-copy\n",
            "  df_people_new['청년층(20~34세) 백분율'] = df_people_new['청년층(20~34세)'] / df_people_new['총 인구수'] * 100\n",
            "<ipython-input-103-215bde94124f>:53: SettingWithCopyWarning: \n",
            "A value is trying to be set on a copy of a slice from a DataFrame.\n",
            "Try using .loc[row_indexer,col_indexer] = value instead\n",
            "\n",
            "See the caveats in the documentation: https://pandas.pydata.org/pandas-docs/stable/user_guide/indexing.html#returning-a-view-versus-a-copy\n",
            "  df_people_new['노년층(65세~) 백분율'] = df_people_new['노년층(65세 이상)'] / df_people_new['총 인구수'] * 100\n"
          ]
        }
      ]
    }
  ]
}