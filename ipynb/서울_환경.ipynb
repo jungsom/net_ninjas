{
 "cells": [
  {
   "cell_type": "markdown",
   "metadata": {},
   "source": [
    "1. 동별 행정구역 면적 데이터 추가\n",
    "2. 다른 지자체 동 이름 중복 -> 서울시만 추출\n",
    "3. 부암동, 종로5.6가동, 창신1동 등 동이름 중구난방 -> 숫자, 가, 동 제외하고 부암, 종로, 창신 등 으로 통일\n",
    "4. 성북구/성북동, 용산구/용산1가동 과 같이 구, 동 이름 중복 -> 구, 동 구분, 동 추출\n",
    "5. 면적 km^2 으로 통일"
   ]
  },
  {
   "cell_type": "code",
   "execution_count": 328,
   "metadata": {},
   "outputs": [],
   "source": [
    "import numpy as np\n",
    "import pandas as pd\n",
    "\n",
    "# 전국 공원 데이터 CSV 파일 읽기\n",
    "park_file_path = '../data/park.csv'\n",
    "\n",
    "# UnicodeDecodeError 해결 - 한글 인코딩 utf-8 euc-kr cp949\n",
    "park_df = pd.read_csv(park_file_path, encoding='euc-kr')\n",
    "\n",
    "# 전국 인구 데이터 CSV 파일 읽기\n",
    "population_file_path = '../data/population.csv'\n",
    "population_df = pd.read_csv(population_file_path, encoding='euc-kr') "
   ]
  },
  {
   "cell_type": "code",
   "execution_count": 329,
   "metadata": {},
   "outputs": [
    {
     "name": "stdout",
     "output_type": "stream",
     "text": [
      "            법정동      공원면적\n",
      "0         101-2    4551.6\n",
      "1          12-1   16176.1\n",
      "2        125-22   45170.5\n",
      "3          14-3    5569.1\n",
      "4          1499    3783.8\n",
      "..          ...       ...\n",
      "422         효창동  174662.4\n",
      "423         후암동    2522.0\n",
      "424         휘경동    9454.2\n",
      "425         흑석동    4319.8\n",
      "426  흑석동141-2일대  384026.0\n",
      "\n",
      "[427 rows x 2 columns]\n"
     ]
    }
   ],
   "source": [
    "# 공원 데이터 주소가 비어 있거나 NaN인 경우 제거\n",
    "park_df = park_df[park_df['소재지지번주소'].notna() & (park_df['소재지지번주소'] != '')]\n",
    "\n",
    "# 공원 데이터 서울특별시만 추출\n",
    "park_df = park_df[park_df['소재지지번주소'].str.contains('서울특별시')]\n",
    "\n",
    "# 주소에서 공백 구분한 리스트를 프레임으로 변경 후 '동'을 추출\n",
    "park_df['법정동'] = park_df['소재지지번주소'].str.split(' ', expand=True)[2]\n",
    "\n",
    "# 법정동 별 공원면적 합 데이터 프레임으로\n",
    "filtered_park_df = park_df.groupby('법정동')['공원면적'].sum().reset_index()\n",
    "\n",
    "print(filtered_park_df)"
   ]
  },
  {
   "cell_type": "code",
   "execution_count": 330,
   "metadata": {},
   "outputs": [],
   "source": [
    "# 법정동 별 데이터 개수가 적은 것 같아 '다른 구 같은 동이름'처럼 중복값은 없는지 확인했으나 전부 False 나옴\n",
    "#df = filtered_park_df.duplicated(['법정동'], keep='first')"
   ]
  },
  {
   "cell_type": "code",
   "execution_count": 331,
   "metadata": {},
   "outputs": [
    {
     "name": "stdout",
     "output_type": "stream",
     "text": [
      "     법정동     인구\n",
      "0    청운동   2356\n",
      "1    신교동   1369\n",
      "2    궁정동    193\n",
      "3    효자동    568\n",
      "4    창성동    426\n",
      "..   ...    ...\n",
      "451  둔촌동  24235\n",
      "452  암사동  66427\n",
      "453  성내동  65506\n",
      "454  천호동  85847\n",
      "455  강일동  32866\n",
      "\n",
      "[456 rows x 2 columns]\n"
     ]
    }
   ],
   "source": [
    "# 인구 데이터 서울특별시만 추출\n",
    "population_df = population_df[(population_df['시도명'] == '서울특별시')]\n",
    "\n",
    "# 인구 데이터 법정동, 인구 컬럼만 추출\n",
    "filtered_population_df = pd.DataFrame({\n",
    "    '법정동': population_df['읍면동명'],\n",
    "    '인구': population_df['계']\n",
    "})\n",
    "\n",
    "print(filtered_population_df)"
   ]
  },
  {
   "cell_type": "code",
   "execution_count": 332,
   "metadata": {},
   "outputs": [
    {
     "name": "stdout",
     "output_type": "stream",
     "text": [
      "     법정동      공원면적     인구  인구 당 공원면적(m^2/명)\n",
      "0    청운동       NaN   2356               NaN\n",
      "1    신교동       NaN   1369               NaN\n",
      "2    궁정동       NaN    193               NaN\n",
      "3    효자동       NaN    568               NaN\n",
      "4    창성동       NaN    426               NaN\n",
      "..   ...       ...    ...               ...\n",
      "451  둔촌동  632733.0  24235         26.108232\n",
      "452  암사동    1022.0  66427          0.015385\n",
      "453  성내동       NaN  65506               NaN\n",
      "454  천호동       NaN  85847               NaN\n",
      "455  강일동  211206.1  32866          6.426279\n",
      "\n",
      "[456 rows x 4 columns]\n"
     ]
    }
   ],
   "source": [
    "# 동별 인구 데이터와 공원 면적 데이터 인구 데이터 기준 병합\n",
    "merged_df = pd.merge(filtered_park_df, filtered_population_df, left_on='법정동', right_on='법정동', how='right')\n",
    "\n",
    "# 인구 당 공원 면적 계산\n",
    "merged_df['인구 당 공원면적(m^2/명)'] = merged_df['공원면적'] / merged_df['인구']\n",
    "\n",
    "print(merged_df)"
   ]
  },
  {
   "cell_type": "code",
   "execution_count": 333,
   "metadata": {},
   "outputs": [],
   "source": [
    "# 최종 결과 데이터 프레임 저장\n",
    "output_file_path = '../data/park_result.csv'\n",
    "merged_df.to_csv(output_file_path, encoding='utf-8')"
   ]
  }
 ],
 "metadata": {
  "kernelspec": {
   "display_name": "Python 3",
   "language": "python",
   "name": "python3"
  },
  "language_info": {
   "codemirror_mode": {
    "name": "ipython",
    "version": 3
   },
   "file_extension": ".py",
   "mimetype": "text/x-python",
   "name": "python",
   "nbconvert_exporter": "python",
   "pygments_lexer": "ipython3",
   "version": "3.10.5"
  }
 },
 "nbformat": 4,
 "nbformat_minor": 2
}
